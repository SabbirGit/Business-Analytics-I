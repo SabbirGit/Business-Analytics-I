{
 "cells": [
  {
   "cell_type": "code",
   "execution_count": null,
   "id": "6ce894c5",
   "metadata": {},
   "outputs": [],
   "source": [
    "# Name : Syed Sabbir Ahmed\n",
    "# ID : 2301659"
   ]
  },
  {
   "cell_type": "code",
   "execution_count": 93,
   "id": "a9fa0863",
   "metadata": {},
   "outputs": [],
   "source": [
    "import pandas as pd\n",
    "import numpy as np"
   ]
  },
  {
   "cell_type": "markdown",
   "id": "bd0317cb",
   "metadata": {},
   "source": [
    "At first I am reading the csv files.In the next few steps I am examining the data & dataset’s structure: columns and data types, and determining the presence of missing values."
   ]
  },
  {
   "cell_type": "code",
   "execution_count": 2,
   "id": "c2f5b06a",
   "metadata": {},
   "outputs": [],
   "source": [
    "data = pd.read_csv('streaming_data (2).csv')"
   ]
  },
  {
   "cell_type": "code",
   "execution_count": 139,
   "id": "e1a948c4",
   "metadata": {},
   "outputs": [
    {
     "data": {
      "text/html": [
       "<div>\n",
       "<style scoped>\n",
       "    .dataframe tbody tr th:only-of-type {\n",
       "        vertical-align: middle;\n",
       "    }\n",
       "\n",
       "    .dataframe tbody tr th {\n",
       "        vertical-align: top;\n",
       "    }\n",
       "\n",
       "    .dataframe thead th {\n",
       "        text-align: right;\n",
       "    }\n",
       "</style>\n",
       "<table border=\"1\" class=\"dataframe\">\n",
       "  <thead>\n",
       "    <tr style=\"text-align: right;\">\n",
       "      <th></th>\n",
       "      <th>ID</th>\n",
       "      <th>Type</th>\n",
       "      <th>Genre</th>\n",
       "      <th>Rating</th>\n",
       "      <th>Release Year</th>\n",
       "      <th>Viewer Count</th>\n",
       "      <th>Average Viewer Age</th>\n",
       "      <th>Age Category</th>\n",
       "    </tr>\n",
       "  </thead>\n",
       "  <tbody>\n",
       "    <tr>\n",
       "      <th>0</th>\n",
       "      <td>1</td>\n",
       "      <td>Movie</td>\n",
       "      <td>Romance</td>\n",
       "      <td>R</td>\n",
       "      <td>2013</td>\n",
       "      <td>52119.000000</td>\n",
       "      <td>40</td>\n",
       "      <td>Between 40 and 55</td>\n",
       "    </tr>\n",
       "    <tr>\n",
       "      <th>1</th>\n",
       "      <td>2</td>\n",
       "      <td>TV Show</td>\n",
       "      <td>Drama</td>\n",
       "      <td>PG-13</td>\n",
       "      <td>2000</td>\n",
       "      <td>67742.000000</td>\n",
       "      <td>22</td>\n",
       "      <td>Younger than 25</td>\n",
       "    </tr>\n",
       "    <tr>\n",
       "      <th>2</th>\n",
       "      <td>3</td>\n",
       "      <td>TV Show</td>\n",
       "      <td>Action</td>\n",
       "      <td>PG-13</td>\n",
       "      <td>1980</td>\n",
       "      <td>92898.000000</td>\n",
       "      <td>62</td>\n",
       "      <td>Older than 55</td>\n",
       "    </tr>\n",
       "    <tr>\n",
       "      <th>3</th>\n",
       "      <td>4</td>\n",
       "      <td>Movie</td>\n",
       "      <td>Horror</td>\n",
       "      <td>PG</td>\n",
       "      <td>2013</td>\n",
       "      <td>49495.000000</td>\n",
       "      <td>65</td>\n",
       "      <td>Older than 55</td>\n",
       "    </tr>\n",
       "    <tr>\n",
       "      <th>4</th>\n",
       "      <td>5</td>\n",
       "      <td>Movie</td>\n",
       "      <td>Drama</td>\n",
       "      <td>R</td>\n",
       "      <td>1999</td>\n",
       "      <td>49349.636667</td>\n",
       "      <td>52</td>\n",
       "      <td>Between 40 and 55</td>\n",
       "    </tr>\n",
       "    <tr>\n",
       "      <th>...</th>\n",
       "      <td>...</td>\n",
       "      <td>...</td>\n",
       "      <td>...</td>\n",
       "      <td>...</td>\n",
       "      <td>...</td>\n",
       "      <td>...</td>\n",
       "      <td>...</td>\n",
       "      <td>...</td>\n",
       "    </tr>\n",
       "    <tr>\n",
       "      <th>95</th>\n",
       "      <td>96</td>\n",
       "      <td>Movie</td>\n",
       "      <td>Documentary</td>\n",
       "      <td>PG</td>\n",
       "      <td>2016</td>\n",
       "      <td>49349.636667</td>\n",
       "      <td>65</td>\n",
       "      <td>Older than 55</td>\n",
       "    </tr>\n",
       "    <tr>\n",
       "      <th>96</th>\n",
       "      <td>97</td>\n",
       "      <td>Movie</td>\n",
       "      <td>Drama</td>\n",
       "      <td>PG-13</td>\n",
       "      <td>1987</td>\n",
       "      <td>49349.636667</td>\n",
       "      <td>32</td>\n",
       "      <td>Between 25 and 40</td>\n",
       "    </tr>\n",
       "    <tr>\n",
       "      <th>97</th>\n",
       "      <td>98</td>\n",
       "      <td>Movie</td>\n",
       "      <td>Family</td>\n",
       "      <td>PG</td>\n",
       "      <td>1989</td>\n",
       "      <td>62889.000000</td>\n",
       "      <td>13</td>\n",
       "      <td>Younger than 25</td>\n",
       "    </tr>\n",
       "    <tr>\n",
       "      <th>98</th>\n",
       "      <td>99</td>\n",
       "      <td>TV Show</td>\n",
       "      <td>Sci-Fi</td>\n",
       "      <td>PG-13</td>\n",
       "      <td>1984</td>\n",
       "      <td>6764.000000</td>\n",
       "      <td>25</td>\n",
       "      <td>Between 25 and 40</td>\n",
       "    </tr>\n",
       "    <tr>\n",
       "      <th>99</th>\n",
       "      <td>100</td>\n",
       "      <td>Movie</td>\n",
       "      <td>Romance</td>\n",
       "      <td>R</td>\n",
       "      <td>1996</td>\n",
       "      <td>14715.000000</td>\n",
       "      <td>48</td>\n",
       "      <td>Between 40 and 55</td>\n",
       "    </tr>\n",
       "  </tbody>\n",
       "</table>\n",
       "<p>100 rows × 8 columns</p>\n",
       "</div>"
      ],
      "text/plain": [
       "     ID     Type        Genre Rating  Release Year  Viewer Count  \\\n",
       "0     1    Movie      Romance      R          2013  52119.000000   \n",
       "1     2  TV Show        Drama  PG-13          2000  67742.000000   \n",
       "2     3  TV Show       Action  PG-13          1980  92898.000000   \n",
       "3     4    Movie       Horror     PG          2013  49495.000000   \n",
       "4     5    Movie        Drama      R          1999  49349.636667   \n",
       "..  ...      ...          ...    ...           ...           ...   \n",
       "95   96    Movie  Documentary     PG          2016  49349.636667   \n",
       "96   97    Movie        Drama  PG-13          1987  49349.636667   \n",
       "97   98    Movie       Family     PG          1989  62889.000000   \n",
       "98   99  TV Show       Sci-Fi  PG-13          1984   6764.000000   \n",
       "99  100    Movie      Romance      R          1996  14715.000000   \n",
       "\n",
       "    Average Viewer Age       Age Category  \n",
       "0                   40  Between 40 and 55  \n",
       "1                   22    Younger than 25  \n",
       "2                   62      Older than 55  \n",
       "3                   65      Older than 55  \n",
       "4                   52  Between 40 and 55  \n",
       "..                 ...                ...  \n",
       "95                  65      Older than 55  \n",
       "96                  32  Between 25 and 40  \n",
       "97                  13    Younger than 25  \n",
       "98                  25  Between 25 and 40  \n",
       "99                  48  Between 40 and 55  \n",
       "\n",
       "[100 rows x 8 columns]"
      ]
     },
     "execution_count": 139,
     "metadata": {},
     "output_type": "execute_result"
    }
   ],
   "source": [
    "data.head(100)"
   ]
  },
  {
   "cell_type": "code",
   "execution_count": 4,
   "id": "f500c7ff",
   "metadata": {},
   "outputs": [
    {
     "name": "stdout",
     "output_type": "stream",
     "text": [
      "first few rows of the dataset\n",
      "     ID     Type        Genre Rating  Release Year  Viewer Count  \\\n",
      "0     1    Movie      Romance      R          2013       52119.0   \n",
      "1     2  TV Show        Drama  PG-13          2000       67742.0   \n",
      "2     3  TV Show       Action  PG-13          1980       92898.0   \n",
      "3     4    Movie       Horror     PG          2013       49495.0   \n",
      "4     5    Movie        Drama      R          1999           NaN   \n",
      "..  ...      ...          ...    ...           ...           ...   \n",
      "95   96    Movie  Documentary     PG          2016           NaN   \n",
      "96   97    Movie        Drama  PG-13          1987           NaN   \n",
      "97   98    Movie       Family     PG          1989       62889.0   \n",
      "98   99  TV Show       Sci-Fi  PG-13          1984        6764.0   \n",
      "99  100    Movie      Romance      R          1996       14715.0   \n",
      "\n",
      "    Average Viewer Age  \n",
      "0                   40  \n",
      "1                   22  \n",
      "2                   62  \n",
      "3                   65  \n",
      "4                   52  \n",
      "..                 ...  \n",
      "95                  65  \n",
      "96                  32  \n",
      "97                  13  \n",
      "98                  25  \n",
      "99                  48  \n",
      "\n",
      "[100 rows x 7 columns]\n"
     ]
    }
   ],
   "source": [
    "print(\"first few rows of the dataset\")\n",
    "print(data.head(100))"
   ]
  },
  {
   "cell_type": "code",
   "execution_count": 5,
   "id": "abc1a722",
   "metadata": {},
   "outputs": [
    {
     "name": "stdout",
     "output_type": "stream",
     "text": [
      "/n columns & data types:\n",
      "ID                      int64\n",
      "Type                   object\n",
      "Genre                  object\n",
      "Rating                 object\n",
      "Release Year            int64\n",
      "Viewer Count          float64\n",
      "Average Viewer Age      int64\n",
      "dtype: object\n"
     ]
    }
   ],
   "source": [
    "print(\"/n columns & data types:\")\n",
    "print(data.dtypes)"
   ]
  },
  {
   "cell_type": "code",
   "execution_count": 6,
   "id": "0e53028f",
   "metadata": {},
   "outputs": [
    {
     "name": "stdout",
     "output_type": "stream",
     "text": [
      "\n",
      " missing values:\n",
      "ID                      0\n",
      "Type                    0\n",
      "Genre                  50\n",
      "Rating                  0\n",
      "Release Year            0\n",
      "Viewer Count          100\n",
      "Average Viewer Age      0\n",
      "dtype: int64\n"
     ]
    }
   ],
   "source": [
    "missing_values = data.isnull().sum()\n",
    "print(\"\\n missing values:\")\n",
    "print(missing_values)"
   ]
  },
  {
   "cell_type": "markdown",
   "id": "627cb4a0",
   "metadata": {},
   "source": [
    "After finding missing values,I have tried to use the mean value as replacement."
   ]
  },
  {
   "cell_type": "code",
   "execution_count": 141,
   "id": "52bcf329",
   "metadata": {},
   "outputs": [
    {
     "name": "stdout",
     "output_type": "stream",
     "text": [
      "\n",
      "Missing Values After Handling:\n",
      "ID                    0\n",
      "Type                  0\n",
      "Genre                 0\n",
      "Rating                0\n",
      "Release Year          0\n",
      "Viewer Count          0\n",
      "Average Viewer Age    0\n",
      "Age Category          0\n",
      "dtype: int64\n"
     ]
    }
   ],
   "source": [
    "for column in data.columns:\n",
    "    if data[column].dtype == 'object':\n",
    "        if data[column].isnull().any():\n",
    "            mode_value = data[column].mode()[0]\n",
    "            data[column] = data[column].fillna(mode_value)\n",
    "    else:\n",
    "        if data[column].isnull().any():\n",
    "            mean_value = data[column].mean()\n",
    "            data[column] = data[column].fillna(mean_value)\n",
    "\n",
    "print(\"\\nMissing Values After Handling:\")\n",
    "print(data.isnull().sum())"
   ]
  },
  {
   "cell_type": "markdown",
   "id": "1c1bb1ef",
   "metadata": {},
   "source": [
    "Here I am trying to figure out among movies & TV shows, which has the most available in datasets. I used the if, elif, else logic that I learned in Introduction to Programming. "
   ]
  },
  {
   "cell_type": "code",
   "execution_count": 120,
   "id": "d35e27f0",
   "metadata": {},
   "outputs": [
    {
     "name": "stdout",
     "output_type": "stream",
     "text": [
      "There are more movies than TV shows in the dataset.\n"
     ]
    }
   ],
   "source": [
    "movie_count = data[data['Type'] == 'Movie'].shape[0]\n",
    "tv_show_count = data[data['Type'] == 'TV Show'].shape[0]\n",
    "if movie_count > tv_show_count:\n",
    "    print(\"There are more movies than TV shows in the dataset.\")\n",
    "elif movie_count < tv_show_count:\n",
    "    print(\"There are more TV shows than movies in the dataset.\")\n",
    "else:\n",
    "    print(\"The number of movies and TV shows is equal in the dataset.\")"
   ]
  },
  {
   "cell_type": "code",
   "execution_count": 121,
   "id": "ba94a55d",
   "metadata": {},
   "outputs": [
    {
     "name": "stdout",
     "output_type": "stream",
     "text": [
      "Release Year with the highest number of Movies: 2013 (Count: 20)\n"
     ]
    }
   ],
   "source": [
    "movie_counts_by_year = data[data['Type'] == 'Movie'].groupby('Release Year').size()\n",
    "year_with_highest_movies = movie_counts_by_year.idxmax()\n",
    "highest_movie_count = movie_counts_by_year.max()\n",
    "\n",
    "print(f\"Release Year with the highest number of Movies: {year_with_highest_movies} (Count: {highest_movie_count})\")"
   ]
  },
  {
   "cell_type": "code",
   "execution_count": 115,
   "id": "7d912e3a",
   "metadata": {},
   "outputs": [
    {
     "name": "stdout",
     "output_type": "stream",
     "text": [
      "The most common genre in the dataset is: Drama\n",
      "There are more movies than TV shows within the most common genre.\n"
     ]
    }
   ],
   "source": [
    "movie_genres = data[data['Type'] == 'Movie']['Genre'].value_counts()\n",
    "\n",
    "tv_show_genres = data[data['Type'] == 'TV Show']['Genre'].value_counts()\n",
    "\n",
    "most_common_genre = movie_genres.combine(tv_show_genres, max, fill_value=0)\n",
    "\n",
    "print(\"The most common genre in the dataset is:\", most_common_genre.idxmax())\n",
    "\n",
    "if movie_genres[most_common_genre.idxmax()] > tv_show_genres[most_common_genre.idxmax()]:\n",
    "    print(\"There are more movies than TV shows within the most common genre.\")\n",
    "elif movie_genres[most_common_genre.idxmax()] < tv_show_genres[most_common_genre.idxmax()]:\n",
    "    print(\"There are more TV shows than movies within the most common genre.\")\n",
    "else:\n",
    "    print(\"The number of movies and TV shows within the most common genre is equal.\")"
   ]
  },
  {
   "cell_type": "code",
   "execution_count": 109,
   "id": "54788750",
   "metadata": {},
   "outputs": [
    {
     "name": "stdout",
     "output_type": "stream",
     "text": [
      "Genre with the highest average viewer count: Horror\n",
      "Highest average viewer count: 54789.9764\n"
     ]
    }
   ],
   "source": [
    "genre_average_viewer_count = data.groupby('Genre')['Viewer Count'].mean()\n",
    "\n",
    "highest_average_viewer_count_genre = genre_average_viewer_count.idxmax()\n",
    "highest_average_viewer_count = genre_average_viewer_count.max()\n",
    "\n",
    "print(\"Genre with the highest average viewer count:\", highest_average_viewer_count_genre)\n",
    "print(\"Highest average viewer count:\", highest_average_viewer_count)"
   ]
  },
  {
   "cell_type": "code",
   "execution_count": 110,
   "id": "6deb95aa",
   "metadata": {},
   "outputs": [
    {
     "name": "stdout",
     "output_type": "stream",
     "text": [
      "Rating of the most popular movie before 2001: PG\n",
      "Rating of the most popular TV show after 2001: PG-13\n"
     ]
    }
   ],
   "source": [
    "movies_before_2001 = data[(data['Type'] == 'Movie') & (data['Release Year'] < 2001)]\n",
    "tv_shows_after_2001 = data[(data['Type'] == 'TV Show') & (data['Release Year'] > 2001)]\n",
    "\n",
    "most_popular_movie = movies_before_2001.loc[movies_before_2001['Viewer Count'].idxmax()]\n",
    "most_popular_tv_show = tv_shows_after_2001.loc[tv_shows_after_2001['Viewer Count'].idxmax()]\n",
    "\n",
    "rating_most_popular_movie = most_popular_movie['Rating']\n",
    "rating_most_popular_tv_show = most_popular_tv_show['Rating']\n",
    "\n",
    "print(\"Rating of the most popular movie before 2001:\", rating_most_popular_movie)\n",
    "print(\"Rating of the most popular TV show after 2001:\", rating_most_popular_tv_show)"
   ]
  },
  {
   "cell_type": "code",
   "execution_count": 122,
   "id": "b1e8950a",
   "metadata": {},
   "outputs": [
    {
     "name": "stdout",
     "output_type": "stream",
     "text": [
      "Most frequent age category: Between 40 and 55\n",
      "Least frequent age category: Younger than 25\n"
     ]
    }
   ],
   "source": [
    "age_bins = [0, 25, 40, 55, float('inf')]\n",
    "age_labels = ['Younger than 25', 'Between 25 and 40', 'Between 40 and 55', 'Older than 55']\n",
    "data['Age Category'] = pd.cut(data['Average Viewer Age'], bins=age_bins, labels=age_labels, right=False)\n",
    "age_category_counts = data['Age Category'].value_counts()\n",
    "most_frequent_age_category = age_category_counts.idxmax()\n",
    "least_frequent_age_category = age_category_counts.idxmin()\n",
    "\n",
    "print(\"Most frequent age category:\", most_frequent_age_category)\n",
    "print(\"Least frequent age category:\", least_frequent_age_category)"
   ]
  },
  {
   "cell_type": "code",
   "execution_count": 123,
   "id": "f1773263",
   "metadata": {},
   "outputs": [
    {
     "name": "stdout",
     "output_type": "stream",
     "text": [
      "The two most recent years in the dataset are: [2022, 2021]\n"
     ]
    }
   ],
   "source": [
    "unique_years =data['Release Year'].unique()\n",
    "sorted_years = sorted(unique_years, reverse=True)\n",
    "most_recent_years = sorted_years[:2]\n",
    "print(\"The two most recent years in the dataset are:\", most_recent_years)"
   ]
  },
  {
   "cell_type": "code",
   "execution_count": 124,
   "id": "da8217b3",
   "metadata": {},
   "outputs": [
    {
     "name": "stdout",
     "output_type": "stream",
     "text": [
      "The total number of views for all movies with Rating 'R' in 2021 and 2022 is: 555902.2733333333\n"
     ]
    }
   ],
   "source": [
    "filtered_data = data[(data['Rating'] == 'R') & (data['Release Year'].isin([2021, 2022]))]\n",
    "\n",
    "total_views_in_2021_2022 = filtered_data['Viewer Count'].sum()\n",
    "print(\"The total number of views for all movies with Rating 'R' in 2021 and 2022 is:\", total_views_in_2021_2022)"
   ]
  },
  {
   "cell_type": "code",
   "execution_count": 134,
   "id": "d46d1928",
   "metadata": {},
   "outputs": [
    {
     "name": "stdout",
     "output_type": "stream",
     "text": [
      "Total number of views for all movies with Rating 'R': 9418317.823333334\n"
     ]
    }
   ],
   "source": [
    "movies_R = data[(data['Type'] == 'Movie') & (data['Rating'] == 'R')]\n",
    "total_views_R_movies = movies_R['Viewer Count'].sum()\n",
    "\n",
    "print(\"Total number of views for all movies with Rating 'R':\", total_views_R_movies)"
   ]
  },
  {
   "cell_type": "code",
   "execution_count": 144,
   "id": "fe51a974",
   "metadata": {},
   "outputs": [
    {
     "name": "stdout",
     "output_type": "stream",
     "text": [
      "Total number of views for movies with Rating 'R' before 2021 and 2022: 13734219.916666668\n"
     ]
    }
   ],
   "source": [
    "filtered_before_2021_2022 = data[(data['Rating'] == 'R') & (data['Release Year'] < 2021)]\n",
    "total_views_before_2021_2022 = filtered_before_2021_2022['Viewer Count'].sum()\n",
    "\n",
    "print(\"Total number of views for movies with Rating 'R' before 2021 and 2022:\", total_views_before_2021_2022)"
   ]
  },
  {
   "cell_type": "code",
   "execution_count": 143,
   "id": "33e749ee",
   "metadata": {},
   "outputs": [
    {
     "name": "stdout",
     "output_type": "stream",
     "text": [
      "Total views decreased in 2021 and 2022 compared to the previous years.\n"
     ]
    }
   ],
   "source": [
    "filtered_2021_2022 = data[(data['Rating'] == 'R') & (data['Release Year'] >= 2021)]\n",
    "\n",
    "total_views_2021_2022 = filtered_2021_2022['Viewer Count'].sum()\n",
    "\n",
    "if total_views_2021_2022 > total_views_before_2021_2022:\n",
    "    print(\"Total views increased in 2021 and 2022 compared to the previous years.\")\n",
    "elif total_views_2021_2022 < total_views_before_2021_2022:\n",
    "    print(\"Total views decreased in 2021 and 2022 compared to the previous years.\")\n",
    "else:\n",
    "    print(\"Total views remained the same in 2021 and 2022 compared to the previous years.\")"
   ]
  },
  {
   "cell_type": "code",
   "execution_count": 137,
   "id": "6bea5d2d",
   "metadata": {},
   "outputs": [
    {
     "name": "stdout",
     "output_type": "stream",
     "text": [
      "Total views for all movies before 2021 and 2022: 28438817.833333336\n",
      "Total views for all TV shows before 2021 and 2022: 18337583.650000002\n"
     ]
    }
   ],
   "source": [
    "movies_data_before_2021_2022 = data[(data['Release Year'] < 2021) & (data['Type'] == 'Movie')]\n",
    "tv_shows_data_before_2021_2022 = data[(data['Release Year'] < 2021) & (data['Type'] == 'TV Show')]\n",
    "\n",
    "total_views_movies_before_2021_2022 = np.sum(movies_data_before_2021_2022['Viewer Count'])\n",
    "total_views_tv_shows_before_2021_2022 = np.sum(tv_shows_data_before_2021_2022['Viewer Count'])\n",
    "\n",
    "print(\"Total views for all movies before 2021 and 2022:\", total_views_movies_before_2021_2022)\n",
    "print(\"Total views for all TV shows before 2021 and 2022:\", total_views_tv_shows_before_2021_2022)"
   ]
  },
  {
   "cell_type": "code",
   "execution_count": 138,
   "id": "3859e98a",
   "metadata": {},
   "outputs": [
    {
     "name": "stdout",
     "output_type": "stream",
     "text": [
      "Total views for all movies in 2021 and 2022: 1650247.6366666667\n",
      "Total views for all TV shows in 2021 and 2022: 922987.5466666666\n"
     ]
    }
   ],
   "source": [
    "movies_data_2021_2022 = data[(data['Release Year'] >= 2021) & (data['Type'] == 'Movie')]\n",
    "tv_shows_data_2021_2022 = data[(data['Release Year'] >= 2021) & (data['Type'] == 'TV Show')]\n",
    "\n",
    "viewer_counts_movies_2021_2022 = movies_data_2021_2022['Viewer Count'].values\n",
    "viewer_counts_tv_shows_2021_2022 = tv_shows_data_2021_2022['Viewer Count'].values\n",
    "\n",
    "total_views_movies_2021_2022 = np.sum(viewer_counts_movies_2021_2022)\n",
    "total_views_tv_shows_2021_2022 = np.sum(viewer_counts_tv_shows_2021_2022)\n",
    "\n",
    "print(\"Total views for all movies in 2021 and 2022:\", total_views_movies_2021_2022)\n",
    "print(\"Total views for all TV shows in 2021 and 2022:\", total_views_tv_shows_2021_2022)"
   ]
  },
  {
   "cell_type": "code",
   "execution_count": 108,
   "id": "59148350",
   "metadata": {},
   "outputs": [
    {
     "name": "stdout",
     "output_type": "stream",
     "text": [
      "Total views for movies decreased in 2021 and 2022 compared to the previous years.\n",
      "Total views for TV shows decreased in 2021 and 2022 compared to the previous years.\n",
      "The platform should invest more money in movies.\n"
     ]
    }
   ],
   "source": [
    "if total_views_movies_2021_2022 > total_views_movies_before_2021_2022:\n",
    "    print(\"Total views for movies increased in 2021 and 2022 compared to the previous years.\")\n",
    "else:\n",
    "    print(\"Total views for movies decreased in 2021 and 2022 compared to the previous years.\")\n",
    "\n",
    "if total_views_tv_shows_2021_2022 > total_views_tv_shows_before_2021_2022:\n",
    "    print(\"Total views for TV shows increased in 2021 and 2022 compared to the previous years.\")\n",
    "else:\n",
    "    print(\"Total views for TV shows decreased in 2021 and 2022 compared to the previous years.\")\n",
    "\n",
    "if total_views_movies_2021_2022 > total_views_tv_shows_2021_2022:\n",
    "    print(\"The platform should invest more money in movies.\")\n",
    "else:\n",
    "    print(\"The platform should invest more money in TV shows.\")"
   ]
  }
 ],
 "metadata": {
  "kernelspec": {
   "display_name": "Python 3 (ipykernel)",
   "language": "python",
   "name": "python3"
  },
  "language_info": {
   "codemirror_mode": {
    "name": "ipython",
    "version": 3
   },
   "file_extension": ".py",
   "mimetype": "text/x-python",
   "name": "python",
   "nbconvert_exporter": "python",
   "pygments_lexer": "ipython3",
   "version": "3.11.5"
  }
 },
 "nbformat": 4,
 "nbformat_minor": 5
}
